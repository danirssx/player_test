{
 "cells": [
  {
   "cell_type": "code",
   "execution_count": 1,
   "metadata": {},
   "outputs": [],
   "source": [
    "# Importing Libraries\n",
    "import numpy as np\n",
    "import pandas as pd"
   ]
  },
  {
   "cell_type": "code",
   "execution_count": 2,
   "metadata": {},
   "outputs": [],
   "source": [
    "from fbref import BotScrap"
   ]
  },
  {
   "cell_type": "markdown",
   "metadata": {},
   "source": [
    "## Here I will trying to filter data from FBREF"
   ]
  },
  {
   "cell_type": "markdown",
   "metadata": {},
   "source": [
    "## Game "
   ]
  },
  {
   "cell_type": "code",
   "execution_count": 3,
   "metadata": {},
   "outputs": [],
   "source": [
    "data = BotScrap()"
   ]
  },
  {
   "cell_type": "code",
   "execution_count": 4,
   "metadata": {},
   "outputs": [
    {
     "name": "stdout",
     "output_type": "stream",
     "text": [
      "Shots                                                  ...\n",
      "Stats    stats         Possession  Passing Accuracy Sho...\n",
      "dtype: object\n"
     ]
    }
   ],
   "source": [
    "match_stats = data.get_match('https://fbref.com/en/matches/2e4383ca/Arsenal-Leeds-United-April-1-2023-Premier-League')"
   ]
  },
  {
   "cell_type": "code",
   "execution_count": 15,
   "metadata": {},
   "outputs": [
    {
     "data": {
      "text/html": [
       "<div>\n",
       "<style scoped>\n",
       "    .dataframe tbody tr th:only-of-type {\n",
       "        vertical-align: middle;\n",
       "    }\n",
       "\n",
       "    .dataframe tbody tr th {\n",
       "        vertical-align: top;\n",
       "    }\n",
       "\n",
       "    .dataframe thead th {\n",
       "        text-align: right;\n",
       "    }\n",
       "</style>\n",
       "<table border=\"1\" class=\"dataframe\">\n",
       "  <thead>\n",
       "    <tr style=\"text-align: right;\">\n",
       "      <th></th>\n",
       "      <th>0</th>\n",
       "    </tr>\n",
       "  </thead>\n",
       "  <tbody>\n",
       "    <tr>\n",
       "      <th>Lineups</th>\n",
       "      <td>Leeds United (4-3-3) Leeds United (4-3-3).1...</td>\n",
       "    </tr>\n",
       "    <tr>\n",
       "      <th>Summary</th>\n",
       "      <td>Player     #   Nation    Po...</td>\n",
       "    </tr>\n",
       "    <tr>\n",
       "      <th>GK</th>\n",
       "      <td>Player  Nation     Age  Min  SoTA  G...</td>\n",
       "    </tr>\n",
       "    <tr>\n",
       "      <th>Passing</th>\n",
       "      <td>Player     #   Nation    Po...</td>\n",
       "    </tr>\n",
       "    <tr>\n",
       "      <th>Pass Types</th>\n",
       "      <td>Player     #   Nation    Po...</td>\n",
       "    </tr>\n",
       "    <tr>\n",
       "      <th>Defensive Actions</th>\n",
       "      <td>Player     #   Nation Pos     Age...</td>\n",
       "    </tr>\n",
       "    <tr>\n",
       "      <th>Possession</th>\n",
       "      <td>Player     #   Nation    Pos...</td>\n",
       "    </tr>\n",
       "    <tr>\n",
       "      <th>Miscellaneous</th>\n",
       "      <td>Player     #   Nation Pos  ...</td>\n",
       "    </tr>\n",
       "  </tbody>\n",
       "</table>\n",
       "</div>"
      ],
      "text/plain": [
       "                                                                   0\n",
       "Lineups               Leeds United (4-3-3) Leeds United (4-3-3).1...\n",
       "Summary                               Player     #   Nation    Po...\n",
       "GK                           Player  Nation     Age  Min  SoTA  G...\n",
       "Passing                               Player     #   Nation    Po...\n",
       "Pass Types                            Player     #   Nation    Po...\n",
       "Defensive Actions               Player     #   Nation Pos     Age...\n",
       "Possession                           Player     #   Nation    Pos...\n",
       "Miscellaneous                         Player     #   Nation Pos  ..."
      ]
     },
     "execution_count": 15,
     "metadata": {},
     "output_type": "execute_result"
    }
   ],
   "source": [
    "match_stats['Away']"
   ]
  },
  {
   "cell_type": "markdown",
   "metadata": {},
   "source": [
    "# Shots "
   ]
  }
 ],
 "metadata": {
  "kernelspec": {
   "display_name": "base",
   "language": "python",
   "name": "python3"
  },
  "language_info": {
   "codemirror_mode": {
    "name": "ipython",
    "version": 3
   },
   "file_extension": ".py",
   "mimetype": "text/x-python",
   "name": "python",
   "nbconvert_exporter": "python",
   "pygments_lexer": "ipython3",
   "version": "3.11.3"
  },
  "orig_nbformat": 4
 },
 "nbformat": 4,
 "nbformat_minor": 2
}
